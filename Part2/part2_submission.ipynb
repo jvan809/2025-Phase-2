{
 "cells": [
  {
   "cell_type": "markdown",
   "id": "cbf6206a",
   "metadata": {},
   "source": [
    "# MSA 2025 Phase 2 - Part 2: Minimum Temperature Prediction from Weather Data"
   ]
  },
  {
   "cell_type": "markdown",
   "id": "3b46716d",
   "metadata": {},
   "source": [
    "## 1. Load and check the dataset"
   ]
  },
  {
   "cell_type": "code",
   "execution_count": null,
   "id": "11a8294f",
   "metadata": {},
   "outputs": [],
   "source": []
  },
  {
   "cell_type": "markdown",
   "id": "24632408",
   "metadata": {},
   "source": [
    "## 2. Clean the dataset, drop variables"
   ]
  },
  {
   "cell_type": "code",
   "execution_count": null,
   "id": "e679c86c",
   "metadata": {},
   "outputs": [],
   "source": []
  },
  {
   "cell_type": "markdown",
   "id": "6a3ab152",
   "metadata": {},
   "source": [
    "## 3. Select the feature(s) for the model, and explain the reason"
   ]
  },
  {
   "cell_type": "code",
   "execution_count": 76,
   "id": "5696ae4f",
   "metadata": {},
   "outputs": [],
   "source": [
    "# write your answer here"
   ]
  },
  {
   "cell_type": "markdown",
   "id": "a726bcc8",
   "metadata": {},
   "source": [
    "## 4. Split the dataset (80% for training, 20% for testing)"
   ]
  },
  {
   "cell_type": "code",
   "execution_count": null,
   "id": "d8486b2e",
   "metadata": {},
   "outputs": [],
   "source": []
  },
  {
   "cell_type": "markdown",
   "id": "81d5a4da",
   "metadata": {},
   "source": [
    "## 5. Choose the algorithm, train and test the model"
   ]
  },
  {
   "cell_type": "code",
   "execution_count": null,
   "id": "04b47504",
   "metadata": {},
   "outputs": [],
   "source": []
  },
  {
   "cell_type": "markdown",
   "id": "f872ee29",
   "metadata": {},
   "source": [
    "## 6. Evaluate and Visualize model Performance"
   ]
  },
  {
   "cell_type": "code",
   "execution_count": null,
   "id": "5533d7f7",
   "metadata": {},
   "outputs": [],
   "source": []
  },
  {
   "cell_type": "markdown",
   "id": "33c3436b",
   "metadata": {},
   "source": [
    "## 7. What is the R² value and RMSE of the model? How these values indicate the model performance?"
   ]
  },
  {
   "cell_type": "code",
   "execution_count": 77,
   "id": "d38410be",
   "metadata": {},
   "outputs": [],
   "source": [
    "# write your answer here"
   ]
  },
  {
   "cell_type": "markdown",
   "id": "37493b66",
   "metadata": {},
   "source": [
    "## 8. Discuss the model performance based on the plot"
   ]
  },
  {
   "cell_type": "code",
   "execution_count": 78,
   "id": "e1849e70",
   "metadata": {},
   "outputs": [],
   "source": [
    "# write your answer here"
   ]
  }
 ],
 "metadata": {
  "kernelspec": {
   "display_name": "Python 3",
   "language": "python",
   "name": "python3"
  },
  "language_info": {
   "codemirror_mode": {
    "name": "ipython",
    "version": 3
   },
   "file_extension": ".py",
   "mimetype": "text/x-python",
   "name": "python",
   "nbconvert_exporter": "python",
   "pygments_lexer": "ipython3",
   "version": "3.10.13"
  }
 },
 "nbformat": 4,
 "nbformat_minor": 5
}
