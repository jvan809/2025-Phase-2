{
 "cells": [
  {
   "cell_type": "markdown",
   "id": "2249078461bec40c",
   "metadata": {
    "collapsed": false
   },
   "source": [
    "## Step 0. Folder Structure\n",
    "```\n",
    "3. Deep Learning Project/\n",
    "├── dataset_split/\n",
    "│   ├── train/\n",
    "│   │   ├── african_elephant (780 images)\n",
    "│   │   ├── airliner (780 images)\n",
    "│   │   └── ... (8 more folders)\n",
    "│   ├── val/\n",
    "│   │   ├── african_elephant (260 images)\n",
    "│   │   ├── airliner (260 images)\n",
    "│   │   └── ... (8 more folders)\n",
    "│   └── test (2600 images)\n",
    "├── data_preprocessed/\n",
    "│   ├── labels_train.pt\n",
    "│   ├── labels_val.pt\n",
    "│   ├── tensor_test.pt\n",
    "│   ├── tensor_train.pt\n",
    "│   └── tensor_val.pt\n",
    "├── models/\n",
    "│   ├── resnet18_checkpoint.pkl\n",
    "│   └── resnet34_checkpoint.pkl\n",
    "├── src/\n",
    "│   └── part3.ipynb\n",
    "├── src_datasplit/\n",
    "│   └── data_split.ipynb\n",
    "├── MSA.yaml\n",
    "├── README.md\n",
    "└── IEEE_Report_Template.docx\n",
    "```\n"
   ]
  },
  {
   "cell_type": "code",
   "execution_count": 3,
   "id": "feff9f82a794ed57",
   "metadata": {
    "ExecuteTime": {
     "end_time": "2025-05-10T03:43:05.563885Z",
     "start_time": "2025-05-10T03:43:05.550616Z"
    },
    "collapsed": false
   },
   "outputs": [],
   "source": [
    "# Import the libraries.\n",
    "from typing import Tuple, List\n",
    "import os\n",
    "import cv2\n",
    "from tqdm import tqdm\n",
    "import numpy as np\n",
    "import torchvision\n",
    "import torch\n",
    "import torch.nn as nn\n",
    "import torch.nn.functional as F\n",
    "from collections import OrderedDict\n",
    "import copy\n",
    "import matplotlib.pyplot as plt\n",
    "import csv"
   ]
  },
  {
   "cell_type": "markdown",
   "id": "129404feccd45358",
   "metadata": {
    "collapsed": false
   },
   "source": [
    "## Step 1 Preprocessing\n",
    "1. Load images and labels from folders into lists.\n",
    "2. Resize the images.\n",
    "3. Convert the image data type as float32 and limit the range in [0, 1].\n",
    "4. Convert data from NHWC to NCHW and creat a PyTorch tensor from it.\n",
    "5. Per-channel standardization of the dataset using training set statistics (mean and std computed independently for each color channel).\n",
    "6. Saving the pre-processed sets as .pt files in the correct directory.\n",
    "7. Load the pre-processed sets from .pt files. "
   ]
  },
  {
   "cell_type": "code",
   "execution_count": null,
   "id": "initial_id",
   "metadata": {
    "ExecuteTime": {
     "end_time": "2025-05-10T03:38:13.117713Z",
     "start_time": "2025-05-10T03:38:13.110009Z"
    },
    "collapsed": true
   },
   "outputs": [],
   "source": [
    "# 1. Load images from folder into a list.\n",
    "def image_loader(set_dir: str) -> Tuple[List[np.ndarray], List[str]]:\n",
    "    \"\"\"\n",
    "    Load all images from a dataset directory (train/val/test) into memory.\n",
    "    Make sure:\n",
    "        1. Load training and validation set images and labels in the correct order.\n",
    "        2. Load testing set images in filename order (e.g., 0.jpg, 1.jpg, ...).\n",
    "    \n",
    "    Parameters:\n",
    "    -----------\n",
    "    set_dir : str\n",
    "        Path to the directory containing either:\n",
    "        - Class subdirectories (for train/val sets)\n",
    "        - Direct image files (for test set)\n",
    "        \n",
    "    Returns:\n",
    "    --------\n",
    "    Tuple[List[np.ndarray], List[str]]\n",
    "        images: List of BGR images (HWC format, uint8 dtype)\n",
    "        labels: List of string labels (empty for test set)\n",
    "        \n",
    "    Example:\n",
    "    --------\n",
    "    >>> images_train, labels_train = image_loader(\"../dataset_split/train\")\n",
    "    >>> images_test, _ = image_loader(\"../dataset_split/test\")\n",
    "    \"\"\"\n",
    "    \n",
    "    subitems = [os.path.join(set_dir, item) for item in os.listdir(set_dir)]\n",
    "\n",
    "    if not os.path.isdir(subitems[0]):\n",
    "        # test set - direct images files + no labels\n",
    "        labels = []\n",
    "        files = sorted(subitems, key = len)\n",
    "        images = [cv2.imread(image) for image in tqdm(files, desc=\"Loading testing set\")]\n",
    "        \n",
    "        return images, labels\n",
    "\n",
    "    images = []\n",
    "    labels = []\n",
    "    for classFolder in subitems:\n",
    "        className = os.path.split(classFolder)[-1]\n",
    "        image_paths = [os.path.join(classFolder, filename) for filename in os.listdir(classFolder)]\n",
    "\n",
    "        class_images = [cv2.imread(image_path) for image_path in tqdm(image_paths, desc=f\"Loading {className}\")]\n",
    "        images.extend(class_images)\n",
    "        labels.extend([className]*len(class_images))\n",
    "    \n",
    "    return images, labels"
   ]
  },
  {
   "cell_type": "code",
   "execution_count": null,
   "id": "e9151a560c344fe2",
   "metadata": {
    "ExecuteTime": {
     "end_time": "2025-05-10T03:38:13.472357Z",
     "start_time": "2025-05-10T03:38:13.460924Z"
    },
    "collapsed": false
   },
   "outputs": [],
   "source": [
    "# 2. Resize images.\n",
    "def img_resize(images: List[np.ndarray], target_size: int = 224) -> np.ndarray:\n",
    "    \"\"\"\n",
    "    Resize images with the shortest edge to target_size and perform center cropping to square dimensions.\n",
    "    \n",
    "    Args:\n",
    "        images: List of input images in BGR format (OpenCV default) with shape (H, W, C)\n",
    "        target_size: Desired output size (both width and height after cropping). Default 224.\n",
    "        \n",
    "    Returns:\n",
    "        Stacked numpy array of processed images with shape (N, target_size, target_size, 3)\n",
    "        where N is the number of input images\n",
    "        \n",
    "    Raises:\n",
    "        ValueError: If input images have inconsistent channels or invalid dimensions\n",
    "        \n",
    "    Notes:\n",
    "        - Preserves original aspect ratio during resizing\n",
    "        - Performs center cropping to exact square dimensions\n",
    "        - Maintains uint8 dtype unless conversion forces float32\n",
    "        \n",
    "    Example:\n",
    "        >>> imgs = [cv2.imread('test.jpg')]  # List of BGR images\n",
    "        >>> processed = img_resize(imgs)\n",
    "        >>> processed.shape  # (1, 224, 224, 3)\n",
    "    \"\"\"\n",
    "    if images is None:\n",
    "        return np.array([])\n",
    "\n",
    "    processed_images = []\n",
    "\n",
    "    count = 0\n",
    "    for img in tqdm(images, desc=\"Resizing\"):\n",
    "        old_width = img.shape[1]\n",
    "        old_height = img.shape[0]\n",
    "\n",
    "        if old_width == old_height:\n",
    "            width = target_size\n",
    "            height = target_size\n",
    "        elif old_width < old_height:\n",
    "            width = target_size\n",
    "            height = int(target_size/old_width * old_height)\n",
    "        else:\n",
    "            width = int(target_size/old_height * old_width)\n",
    "            height = target_size\n",
    "\n",
    "        dim = (width, height)\n",
    "        resized = cv2.resize(img, dim)\n",
    "\n",
    "        if width == height:\n",
    "            processed = resized\n",
    "        else:\n",
    "            half_target_size = target_size//2\n",
    "            center_width = width//2\n",
    "            center_height = height//2\n",
    "\n",
    "            processed = resized[center_height-half_target_size:center_height+half_target_size, \n",
    "                                center_width-half_target_size:center_width+half_target_size]\n",
    "\n",
    "        processed_images.append(processed)\n",
    "\n",
    "    return np.stack(processed_images)\n",
    "    "
   ]
  },
  {
   "cell_type": "code",
   "execution_count": null,
   "id": "bd1862b268144556",
   "metadata": {
    "ExecuteTime": {
     "end_time": "2025-05-10T03:38:39.249145Z",
     "start_time": "2025-05-10T03:38:14.305937Z"
    },
    "collapsed": false
   },
   "outputs": [
    {
     "name": "stderr",
     "output_type": "stream",
     "text": [
      "Loading african_elephant: 100%|██████████| 780/780 [00:01<00:00, 506.14it/s]\n",
      "Loading airliner: 100%|██████████| 780/780 [00:01<00:00, 665.30it/s]\n",
      "Loading banana: 100%|██████████| 780/780 [00:01<00:00, 597.69it/s]\n",
      "Loading convertible_car: 100%|██████████| 780/780 [00:01<00:00, 459.36it/s]\n",
      "Loading golden_retriever: 100%|██████████| 780/780 [00:01<00:00, 541.10it/s]\n",
      "Loading goldfish: 100%|██████████| 780/780 [00:01<00:00, 589.15it/s]\n",
      "Loading parachute: 100%|██████████| 780/780 [00:01<00:00, 491.97it/s]\n",
      "Loading rugby: 100%|██████████| 780/780 [00:01<00:00, 476.74it/s]\n",
      "Loading sunglasses: 100%|██████████| 780/780 [00:01<00:00, 527.48it/s]\n",
      "Loading tiger_cat: 100%|██████████| 780/780 [00:01<00:00, 428.51it/s]\n",
      "Loading african_elephant: 100%|██████████| 260/260 [00:00<00:00, 497.48it/s]\n",
      "Loading airliner: 100%|██████████| 260/260 [00:00<00:00, 612.67it/s]\n",
      "Loading banana: 100%|██████████| 260/260 [00:00<00:00, 545.30it/s]\n",
      "Loading convertible_car: 100%|██████████| 260/260 [00:00<00:00, 453.81it/s]\n",
      "Loading golden_retriever: 100%|██████████| 260/260 [00:00<00:00, 443.15it/s]\n",
      "Loading goldfish: 100%|██████████| 260/260 [00:00<00:00, 425.38it/s]\n",
      "Loading parachute: 100%|██████████| 260/260 [00:00<00:00, 397.81it/s]\n",
      "Loading rugby: 100%|██████████| 260/260 [00:00<00:00, 409.14it/s]\n",
      "Loading sunglasses: 100%|██████████| 260/260 [00:00<00:00, 398.43it/s]\n",
      "Loading tiger_cat: 100%|██████████| 260/260 [00:00<00:00, 331.66it/s]\n",
      "Loading testing set: 100%|██████████| 2600/2600 [00:05<00:00, 455.17it/s]\n"
     ]
    }
   ],
   "source": [
    "# Load images\n",
    "images_train, labels_train = image_loader(\"../dataset_split/train\")\n",
    "images_val, labels_val = image_loader(\"../dataset_split/val\")\n",
    "images_test, _ = image_loader(\"../dataset_split/test\")"
   ]
  },
  {
   "cell_type": "code",
   "execution_count": null,
   "id": "1975435fea13d751",
   "metadata": {
    "ExecuteTime": {
     "end_time": "2025-05-10T03:39:17.095684Z",
     "start_time": "2025-05-10T03:38:57.883480Z"
    },
    "collapsed": false
   },
   "outputs": [
    {
     "name": "stderr",
     "output_type": "stream",
     "text": [
      "Resizing: 100%|██████████| 7800/7800 [00:02<00:00, 2998.79it/s]\n",
      "Resizing: 100%|██████████| 2600/2600 [00:00<00:00, 4195.28it/s]\n"
     ]
    }
   ],
   "source": [
    "# Resize the images\n",
    "\n",
    "images_train = img_resize(images_train, 224)\n",
    "images_val = img_resize(images_val, 224)\n",
    "images_test = img_resize(images_test, 224)"
   ]
  },
  {
   "cell_type": "code",
   "execution_count": null,
   "id": "bd71fcddecfefdbf",
   "metadata": {
    "ExecuteTime": {
     "end_time": "2025-05-10T03:39:20.788788Z",
     "start_time": "2025-05-10T03:39:17.097418Z"
    },
    "collapsed": false
   },
   "outputs": [],
   "source": [
    "# 3. Convert the image data type as float32 and limit the range in [0, 1].\n",
    "\n",
    "images_train = images_train.astype('float32') / 255\n",
    "images_val = images_val.astype('float32') / 255\n",
    "images_test = images_test.astype('float32') / 255"
   ]
  },
  {
   "cell_type": "code",
   "execution_count": null,
   "id": "1938cec6018a8176",
   "metadata": {
    "ExecuteTime": {
     "end_time": "2025-05-10T03:39:21.156559Z",
     "start_time": "2025-05-10T03:39:20.789492Z"
    },
    "collapsed": false
   },
   "outputs": [],
   "source": [
    "# 4. Convert data from NHWC to NCHW and create a PyTorch tensor from it.\n",
    "\n",
    "tensor_train = torch.from_numpy(np.transpose(images_train,(0,3,1,2)))\n",
    "tensor_val = torch.from_numpy(np.transpose(images_val,(0,3,1,2)))\n",
    "tensor_test = torch.from_numpy(np.transpose(images_test,(0,3,1,2)))"
   ]
  },
  {
   "cell_type": "code",
   "execution_count": null,
   "id": "d584e1b61e015747",
   "metadata": {
    "ExecuteTime": {
     "end_time": "2025-05-10T03:39:32.523629Z",
     "start_time": "2025-05-10T03:39:21.158863Z"
    },
    "collapsed": false
   },
   "outputs": [],
   "source": [
    "# 5. Per-channel standardization of the dataset using training set statistics (mean and std computed independently for each color channel).\n",
    "\n",
    "train_mean = tensor_train.mean((0,2,3)).unsqueeze(1).unsqueeze(2)\n",
    "train_std = tensor_train.std((0,2,3)).unsqueeze(1).unsqueeze(2)\n",
    "\n",
    "tensor_train = tensor_train.subtract(train_mean).divide(train_std)\n",
    "tensor_val = tensor_val.subtract(train_mean).divide(train_std)\n",
    "tensor_test = tensor_test.subtract(train_mean).divide(train_std)"
   ]
  },
  {
   "cell_type": "code",
   "execution_count": null,
   "id": "51537b73",
   "metadata": {},
   "outputs": [],
   "source": [
    "# 6. Save the pre-processed sets as .pt files.\n",
    "\n",
    "# 6.1 Save the tensor_train, tensor_val, and tensor_test as tensor_train.pt, tensor_val.pt, and tensor_test.pt, respectively.\n",
    "torch.save(tensor_train, \"../data_preprocessed/tensor_train.pt\")\n",
    "torch.save(tensor_val, \"../data_preprocessed/tensor_val.pt\")\n",
    "torch.save(tensor_test, \"../data_preprocessed/tensor_test.pt\")\n",
    "\n",
    "# 6.2 Create a list to map index to label and a dictionary to map label to index.\n",
    "#   For instance:\n",
    "#       unique_labels = ['african_elephant', 'airliner', ...]\n",
    "#       label_to_index = {\n",
    "#           'african_elephant': 0,\n",
    "#           'airliner': 1,\n",
    "#           ...\n",
    "#       }\n",
    "\n",
    "\n",
    "# # Generator code for list/dict\n",
    "# unique_labels = list(np.unique(labels_train))\n",
    "# label_to_index = {label: i for (i, label) in enumerate(unique_labels)}\n",
    "\n",
    "unique_labels = ['african_elephant', 'airliner', 'banana', 'convertible_car', 'golden_retriever', \n",
    "                 'goldfish', 'parachute', 'rugby', 'sunglasses', 'tiger_cat']\n",
    "label_to_index = {'african_elephant': 0,\n",
    "                   'airliner': 1,\n",
    "                   'banana': 2,\n",
    "                   'convertible_car': 3,\n",
    "                   'golden_retriever': 4,\n",
    "                   'goldfish': 5,\n",
    "                   'parachute': 6,\n",
    "                   'rugby': 7,\n",
    "                   'sunglasses': 8,\n",
    "                   'tiger_cat': 9}\n",
    "\n",
    "\n",
    "# 6.3 Map the labels to index.\n",
    "labels_train_index = torch.tensor([label_to_index[label] for label in labels_train])\n",
    "labels_val_index = torch.tensor([label_to_index[label] for label in labels_val])\n",
    "\n",
    "# 6.4 Save the index, label_to_index, and index_to_label.\n",
    "torch.save(labels_train_index, \"../data_preprocessed/labels_train.pt\")\n",
    "torch.save(labels_val_index, \"../data_preprocessed/labels_val.pt\")"
   ]
  },
  {
   "cell_type": "code",
   "execution_count": 7,
   "id": "a3a5a646027a826",
   "metadata": {
    "ExecuteTime": {
     "end_time": "2025-05-10T03:39:45.192760Z",
     "start_time": "2025-05-10T03:39:41.946771Z"
    },
    "collapsed": false
   },
   "outputs": [],
   "source": [
    "# 7. Load the pre-processed sets from .pt files. The data can be used directly in future without pre-processing once more by loading from the folder.\n",
    "\n",
    "tensor_train = torch.load(\"../data_preprocessed/tensor_train.pt\")\n",
    "tensor_val = torch.load(\"../data_preprocessed/tensor_val.pt\")\n",
    "tensor_test = torch.load(\"../data_preprocessed/tensor_test.pt\")\n",
    "\n",
    "labels_train_index = torch.load(\"../data_preprocessed/labels_train.pt\")\n",
    "labels_val_index = torch.load(\"../data_preprocessed/labels_val.pt\")\n",
    "\n",
    "dataset_train = [[tensor, label_index] for (tensor, label_index) in zip(tensor_train, labels_train_index)]\n",
    "dataset_val = [[tensor, label_index] for (tensor, label_index) in zip(tensor_val, labels_val_index)]"
   ]
  },
  {
   "cell_type": "markdown",
   "id": "f5cb7cfa317410ff",
   "metadata": {
    "collapsed": false
   },
   "source": [
    "# Step 2 Train the teacher model (ResNet34)\n",
    "1. Set hyperparameters for the training process.\n",
    "2. Create a pretrained ResNet34.\n",
    "3. Define the optimizer, loss function, etc.\n",
    "4. Train ResNet34 and save the best-performing parameters to 'resnet34_checkpoint.pkl'.\n",
    "5. Plot the loss and accuracy curves."
   ]
  },
  {
   "cell_type": "code",
   "execution_count": 3,
   "id": "745979a1b12465eb",
   "metadata": {
    "ExecuteTime": {
     "end_time": "2025-05-10T01:43:51.705549Z",
     "start_time": "2025-05-10T01:43:51.663106Z"
    },
    "collapsed": false
   },
   "outputs": [
    {
     "name": "stdout",
     "output_type": "stream",
     "text": [
      "tensor(10)\n",
      "torch.Size([7800, 3, 224, 224])\n",
      "torch.Size([2600, 3, 224, 224])\n",
      "torch.Size([2600, 3, 224, 224])\n",
      "torch.Size([7800])\n",
      "torch.Size([2600])\n"
     ]
    }
   ],
   "source": [
    "# Verify data shapes\n",
    "\n",
    "num_classes = max(labels_train_index) + 1\n",
    "print(num_classes)\n",
    "print(tensor_train.shape)\n",
    "print(tensor_val.shape)\n",
    "print(tensor_test.shape)\n",
    "print(labels_train_index.shape)\n",
    "print(labels_val_index.shape)"
   ]
  },
  {
   "cell_type": "code",
   "execution_count": 4,
   "id": "507aa43e1a3701b5",
   "metadata": {
    "ExecuteTime": {
     "end_time": "2025-05-10T01:43:52.604546Z",
     "start_time": "2025-05-10T01:43:52.600245Z"
    },
    "collapsed": false
   },
   "outputs": [
    {
     "data": {
      "text/plain": [
       "device(type='cuda')"
      ]
     },
     "execution_count": 4,
     "metadata": {},
     "output_type": "execute_result"
    }
   ],
   "source": [
    "# 1. Set hyperparameters for the training process.\n",
    "\n",
    "MAX_EPOCH = 6\n",
    "INIT_LR = 0.001\n",
    "BATCH_SIZE = 100\n",
    "\n",
    "# Specify the training device (automatically detects GPU if available)\n",
    "# Usage example: \n",
    "#   tensor = tensor.to(device)  # Moves tensor to selected device\n",
    "device = torch.device(\"cuda\" if torch.cuda.is_available() else \"cpu\")\n",
    "device"
   ]
  },
  {
   "cell_type": "code",
   "execution_count": 5,
   "id": "c8b9bf9ed5ae5cf9",
   "metadata": {
    "ExecuteTime": {
     "end_time": "2025-05-10T01:43:55.541802Z",
     "start_time": "2025-05-10T01:43:55.291383Z"
    },
    "collapsed": false
   },
   "outputs": [],
   "source": [
    "# 2. Create a pretrained ResNet34.\n",
    "\n",
    "# 2.1 Use torchvision to create a pretrained ResNet34.\n",
    "resnet34 = torchvision.models.resnet34(weights=torchvision.models.ResNet34_Weights.DEFAULT)\n",
    "for param in resnet34.parameters():\n",
    "    param.requires_grad = False\n",
    "\n",
    "# 2.2 Modify the output layer so that the model aligns with this project.\n",
    "resnet34.fc = nn.Linear(resnet34.fc.in_features, num_classes)\n",
    "# 2.2 Move the model to selected device.\n",
    "resnet34 = resnet34.to(device)"
   ]
  },
  {
   "cell_type": "code",
   "execution_count": 6,
   "id": "70de5ac59beb12d",
   "metadata": {
    "ExecuteTime": {
     "end_time": "2025-05-10T01:43:56.555839Z",
     "start_time": "2025-05-10T01:43:56.542721Z"
    },
    "collapsed": false
   },
   "outputs": [],
   "source": [
    "# 3. Define the optimizer, loss function, etc.\n",
    "\n",
    "optimizer = torch.optim.Adam(resnet34.parameters(), lr=INIT_LR)\n",
    "criterion = nn.CrossEntropyLoss()"
   ]
  },
  {
   "cell_type": "code",
   "execution_count": null,
   "id": "dfa659e1",
   "metadata": {},
   "outputs": [],
   "source": [
    "def runModelOnDataset(model : torchvision.models, dataset : List[List[torch.tensor]], train = True) -> tuple[float, float]:\n",
    "    \"\"\"\n",
    "    \n",
    "    Args:\n",
    "        model: model that is being trained\n",
    "        dataset: list of datapoints of the form [X, y]\n",
    "        train: Boolean - True = train mode + optimization step, False = eval mode + torch.no_grad\n",
    "    \n",
    "    Requires:\n",
    "        device\n",
    "        criterion\n",
    "        optimizer\n",
    "\n",
    "\n",
    "    Returns:\n",
    "        1. Loss per batch\n",
    "        2. accuracy as a ratio [0-1]\n",
    "    \n",
    "    \"\"\"\n",
    "    loader = torch.utils.data.DataLoader(dataset, batch_size=BATCH_SIZE, shuffle=train)\n",
    "    model.train(train)\n",
    "    total_loss = 0\n",
    "    total_correct = 0\n",
    "    \n",
    "    for data, target in loader:\n",
    "        data, target = data.to(device), target.to(device)\n",
    "        \n",
    "        if train: \n",
    "            optimizer.zero_grad()\n",
    "            output = model(data)\n",
    "            loss = criterion(output, target)\n",
    "        else:\n",
    "            with torch.no_grad():\n",
    "                output = model(data)\n",
    "                loss = criterion(output, target)\n",
    "        \n",
    "\n",
    "        \n",
    "        total_loss += loss.item()\n",
    "        _, predicted = torch.max(output.data, 1)\n",
    "        total_correct += torch.sum(target == predicted).item()\n",
    "\n",
    "        if train:\n",
    "            loss.backward()\n",
    "            optimizer.step()\n",
    "\n",
    "    return total_loss/len(loader), total_correct/len(dataset)\n",
    "\n"
   ]
  },
  {
   "cell_type": "code",
   "execution_count": null,
   "id": "65a797debcc531db",
   "metadata": {
    "collapsed": false
   },
   "outputs": [
    {
     "name": "stderr",
     "output_type": "stream",
     "text": [
      "Training Epoch 0: 100%|██████████| 78/78 [00:07<00:00,  9.88it/s]\n",
      "Evaluating Epoch 0: 100%|██████████| 26/26 [00:02<00:00, 11.70it/s]\n"
     ]
    },
    {
     "name": "stdout",
     "output_type": "stream",
     "text": [
      "test: loss - 0.69, acc - 0.85\n",
      " val: loss - 0.19, acc - 0.97\n"
     ]
    },
    {
     "name": "stderr",
     "output_type": "stream",
     "text": [
      "Training Epoch 1:   8%|▊         | 6/78 [00:00<00:07,  9.49it/s]\n"
     ]
    },
    {
     "ename": "KeyboardInterrupt",
     "evalue": "",
     "output_type": "error",
     "traceback": [
      "\u001b[1;31m---------------------------------------------------------------------------\u001b[0m",
      "\u001b[1;31mKeyboardInterrupt\u001b[0m                         Traceback (most recent call last)",
      "Cell \u001b[1;32mIn[8], line 13\u001b[0m\n\u001b[0;32m      7\u001b[0m \u001b[38;5;66;03m# train_loader = torch.utils.data.DataLoader(dataset_train, batch_size=BATCH_SIZE, shuffle=True)\u001b[39;00m\n\u001b[0;32m      8\u001b[0m \u001b[38;5;66;03m# val_loader = torch.utils.data.DataLoader(dataset_val, batch_size=BATCH_SIZE)\u001b[39;00m\n\u001b[0;32m     10\u001b[0m \u001b[38;5;28;01mfor\u001b[39;00m i \u001b[38;5;129;01min\u001b[39;00m \u001b[38;5;28mrange\u001b[39m(MAX_EPOCH):\n\u001b[0;32m     11\u001b[0m \n\u001b[0;32m     12\u001b[0m     \u001b[38;5;66;03m# Training\u001b[39;00m\n\u001b[1;32m---> 13\u001b[0m     train_loss, train_acc \u001b[38;5;241m=\u001b[39m \u001b[43mrunModelOnDataset\u001b[49m\u001b[43m(\u001b[49m\u001b[43mresnet34\u001b[49m\u001b[43m,\u001b[49m\u001b[43m \u001b[49m\u001b[43mdataset_train\u001b[49m\u001b[43m,\u001b[49m\u001b[43m \u001b[49m\u001b[38;5;28;43;01mTrue\u001b[39;49;00m\u001b[43m)\u001b[49m\n\u001b[0;32m     14\u001b[0m     train_losses_resnet34\u001b[38;5;241m.\u001b[39mappend(train_loss)\n\u001b[0;32m     15\u001b[0m     train_accs_resnet34\u001b[38;5;241m.\u001b[39mappend(train_acc)\n",
      "Cell \u001b[1;32mIn[7], line 21\u001b[0m, in \u001b[0;36mrunModelOnDataset\u001b[1;34m(model, dataset, train)\u001b[0m\n\u001b[0;32m     16\u001b[0m         output \u001b[38;5;241m=\u001b[39m model(data)\n\u001b[0;32m     17\u001b[0m         loss \u001b[38;5;241m=\u001b[39m criterion(output, target)\n\u001b[1;32m---> 21\u001b[0m total_loss \u001b[38;5;241m+\u001b[39m\u001b[38;5;241m=\u001b[39m \u001b[43mloss\u001b[49m\u001b[38;5;241;43m.\u001b[39;49m\u001b[43mitem\u001b[49m\u001b[43m(\u001b[49m\u001b[43m)\u001b[49m\n\u001b[0;32m     22\u001b[0m _, predicted \u001b[38;5;241m=\u001b[39m torch\u001b[38;5;241m.\u001b[39mmax(output\u001b[38;5;241m.\u001b[39mdata, \u001b[38;5;241m1\u001b[39m)\n\u001b[0;32m     23\u001b[0m total_correct \u001b[38;5;241m+\u001b[39m\u001b[38;5;241m=\u001b[39m torch\u001b[38;5;241m.\u001b[39msum(target \u001b[38;5;241m==\u001b[39m predicted)\u001b[38;5;241m.\u001b[39mitem()\n",
      "\u001b[1;31mKeyboardInterrupt\u001b[0m: "
     ]
    }
   ],
   "source": [
    "# 4. Train ResNet34 and save the best-performing parameters to 'resnet34_checkpoint.pkl'.\n",
    "# Hint: May not need too many epochs as this is a pretrained model.\n",
    "\n",
    "\n",
    "train_accs_resnet34, train_losses_resnet34, val_accs_resnet34, val_losses_resnet34 = [], [], [], []\n",
    "\n",
    "# train_loader = torch.utils.data.DataLoader(dataset_train, batch_size=BATCH_SIZE, shuffle=True)\n",
    "# val_loader = torch.utils.data.DataLoader(dataset_val, batch_size=BATCH_SIZE)\n",
    "\n",
    "for i in range(MAX_EPOCH):\n",
    "\n",
    "    # Training\n",
    "    train_loss, train_acc = runModelOnDataset(resnet34, dataset_train, True)\n",
    "    train_losses_resnet34.append(train_loss)\n",
    "    train_accs_resnet34.append(train_acc)\n",
    "\n",
    "\n",
    "    val_loss, val_acc = runModelOnDataset(resnet34, dataset_val, False)\n",
    "    val_losses_resnet34.append(val_loss)\n",
    "    val_accs_resnet34.append(val_acc)\n",
    "\n",
    "\n",
    "    print(f\"test: loss - {train_loss:.2}, acc - {train_acc:.2}\")\n",
    "    print(f\" val: loss - {val_loss:.2}, acc - {val_acc:.2}\")\n",
    "\n"
   ]
  },
  {
   "cell_type": "code",
   "execution_count": 66,
   "id": "90258430",
   "metadata": {},
   "outputs": [],
   "source": [
    "torch.save(resnet34, \"../models/resnet34checkpoint.pkl\")"
   ]
  },
  {
   "cell_type": "code",
   "execution_count": 71,
   "id": "bb5a3089891cf4a3",
   "metadata": {
    "collapsed": false
   },
   "outputs": [
    {
     "data": {
      "image/png": "[encoded data removed]",
      "text/plain": [
       "<Figure size 640x480 with 1 Axes>"
      ]
     },
     "metadata": {},
     "output_type": "display_data"
    },
    {
     "data": {
      "image/png": "[encoded data removed]",
      "text/plain": [
       "<Figure size 640x480 with 1 Axes>"
      ]
     },
     "metadata": {},
     "output_type": "display_data"
    }
   ],
   "source": [
    "# 5. Plot the loss and accuracy curves.\n",
    "# TODO nice plots\n",
    "plt.plot(range(MAX_EPOCH), train_losses_resnet34)\n",
    "plt.plot(range(MAX_EPOCH), val_losses_resnet34)\n",
    "plt.legend(['training', 'validation'], loc='center right')\n",
    "\n",
    "plt.show()\n",
    "\n",
    "plt.plot(range(MAX_EPOCH), train_accs_resnet34)\n",
    "plt.plot(range(MAX_EPOCH), val_accs_resnet34)\n",
    "plt.legend(['training', 'validation'], loc='center right')\n",
    "\n",
    "plt.show()\n"
   ]
  },
  {
   "cell_type": "markdown",
   "id": "897fa4102b57deab",
   "metadata": {
    "collapsed": false
   },
   "source": [
    "# Step 3 Train the student model (ResNet18)\n",
    "1. Set hyperparameters for the distillation process.\n",
    "2. Create a NON-PRETRAINED ResNet18 and move the model to selected device.\n",
    "3. Load the saved ResNet34 and move the model to selected device.\n",
    "4. Define the optimizer, loss function, etc.\n",
    "5. Train ResNet18 and save the best-performing parameters to 'resnet18_checkpoint.pkl'.\n",
    "6. Plot the loss and accuracy curves."
   ]
  },
  {
   "cell_type": "code",
   "execution_count": 18,
   "id": "68482456ab9410f8",
   "metadata": {
    "ExecuteTime": {
     "end_time": "2025-05-10T01:57:38.370616Z",
     "start_time": "2025-05-10T01:57:38.341026Z"
    },
    "collapsed": false
   },
   "outputs": [
    {
     "name": "stdout",
     "output_type": "stream",
     "text": [
      "tensor(10)\n",
      "torch.Size([7800, 3, 224, 224])\n",
      "torch.Size([2600, 3, 224, 224])\n",
      "torch.Size([2600, 3, 224, 224])\n",
      "torch.Size([7800])\n",
      "torch.Size([2600])\n"
     ]
    }
   ],
   "source": [
    "# Verify data shapes\n",
    "\n",
    "num_classes = max(labels_train_index) + 1\n",
    "print(num_classes)\n",
    "print(tensor_train.shape)\n",
    "print(tensor_val.shape)\n",
    "print(tensor_test.shape)\n",
    "print(labels_train_index.shape)\n",
    "print(labels_val_index.shape)"
   ]
  },
  {
   "cell_type": "code",
   "execution_count": 19,
   "id": "36a405975e022459",
   "metadata": {
    "ExecuteTime": {
     "end_time": "2025-05-10T01:57:39.329470Z",
     "start_time": "2025-05-10T01:57:39.294551Z"
    },
    "collapsed": false
   },
   "outputs": [],
   "source": [
    "# TODO: 1. Set hyperparameters for the distillation process.\n",
    "\n",
    "MAX_EPOCH = 65\n",
    "INIT_LR = 0.001\n",
    "BATCH_SIZE = 100\n",
    "device = torch.device(\"cuda\" if torch.cuda.is_available() else \"cpu\")\n",
    "\n",
    "TEMPERATURE = 2\n",
    "LOSS_RATIO = 1/3"
   ]
  },
  {
   "cell_type": "code",
   "execution_count": 20,
   "id": "e7d2325836c2cf7d",
   "metadata": {
    "ExecuteTime": {
     "end_time": "2025-05-10T01:57:43.030265Z",
     "start_time": "2025-05-10T01:57:42.861042Z"
    },
    "collapsed": false
   },
   "outputs": [],
   "source": [
    "# TODO: 2. Create a NON-PRETRAINED ResNet18 and move the model to selected device.\n",
    "\n",
    "resnet18 = torchvision.models.resnet18(weights=None)\n",
    "resnet18.fc = nn.Linear(resnet18.fc.in_features, num_classes)\n",
    "\n",
    "resnet18 = resnet18.to(device)\n"
   ]
  },
  {
   "cell_type": "code",
   "execution_count": 21,
   "id": "b8092f5d5acce972",
   "metadata": {
    "collapsed": false
   },
   "outputs": [],
   "source": [
    "# 3. Load the saved ResNet34 and move the model to selected device.\n",
    "# Hint: Enable the evaluation mode to prevent updating the parameters.\n",
    "\n",
    "resnet34 = torch.load(\"../models/resnet34checkpoint.pkl\", weights_only=False)\n",
    "\n",
    "resnet34.eval()\n",
    "resnet34 = resnet34.to(device)\n"
   ]
  },
  {
   "cell_type": "code",
   "execution_count": 22,
   "id": "f312a04da1e5ddf6",
   "metadata": {
    "ExecuteTime": {
     "end_time": "2025-05-10T01:57:49.170629Z",
     "start_time": "2025-05-10T01:57:49.152278Z"
    },
    "collapsed": false
   },
   "outputs": [],
   "source": [
    "# TODO: 4. Define the optimizer, loss function, etc.\n",
    "\n",
    "\n",
    "optimizer = torch.optim.Adam(resnet18.parameters(), lr = INIT_LR)\n",
    "# scheduler = torch.optim.lr_scheduler.LinearLR(optimizer) # What is this\n",
    "criterion = nn.CrossEntropyLoss()"
   ]
  },
  {
   "cell_type": "code",
   "execution_count": null,
   "id": "0574994e",
   "metadata": {},
   "outputs": [],
   "source": [
    "def knowledgeDistillationTrain(student, teacher, dataset):\n",
    "    loader = torch.utils.data.DataLoader(dataset, batch_size=BATCH_SIZE, shuffle=True)\n",
    "\n",
    "\n",
    "    student.train()\n",
    "    teacher.eval()\n",
    "    total_loss = 0\n",
    "    total_correct = 0\n",
    "    \n",
    "    for data, target in loader:\n",
    "        data, target = data.to(device), target.to(device)\n",
    "        \n",
    "        optimizer.zero_grad()\n",
    "\n",
    "        with torch.no_grad():\n",
    "            teacher_output = teacher(data)\n",
    "            teacher_softmax = nn.functional.softmax(teacher_output / TEMPERATURE, dim = -1)\n",
    "\n",
    "\n",
    "        output = student(data)\n",
    "        student_softmax = nn.functional.softmax(output / TEMPERATURE, dim = -1)\n",
    "\n",
    "        teacher_loss = torch.sum(teacher_softmax * (teacher_softmax.log() - student_softmax.log())) / student_softmax.size()[0] * (TEMPERATURE**2)\n",
    "        \n",
    "        label_loss = criterion(output, target)\n",
    "\n",
    "        loss = label_loss + LOSS_RATIO * teacher_loss\n",
    "\n",
    "        loss.backward()\n",
    "        optimizer.step()\n",
    "        \n",
    "        total_loss += loss.item()\n",
    "        _, predicted = torch.max(output.data, 1)\n",
    "        total_correct += torch.sum(target == predicted).item()\n",
    "\n",
    "\n",
    "\n",
    "    return total_loss/len(loader), total_correct/len(dataset)\n",
    "\n"
   ]
  },
  {
   "cell_type": "code",
   "execution_count": 24,
   "id": "3c17f3f9eb662cef",
   "metadata": {
    "collapsed": false
   },
   "outputs": [
    {
     "name": "stderr",
     "output_type": "stream",
     "text": [
      "Training Epoch 0: 100%|██████████| 78/78 [00:19<00:00,  3.97it/s]\n",
      "Evaluating Epoch 0: 100%|██████████| 26/26 [00:01<00:00, 16.25it/s]\n"
     ]
    },
    {
     "name": "stdout",
     "output_type": "stream",
     "text": [
      "test: loss - 2.9, acc - 0.53\n",
      " val: loss - 1.4, acc - 0.57\n"
     ]
    },
    {
     "name": "stderr",
     "output_type": "stream",
     "text": [
      "Training Epoch 1: 100%|██████████| 78/78 [00:19<00:00,  4.07it/s]\n",
      "Evaluating Epoch 1: 100%|██████████| 26/26 [00:01<00:00, 16.36it/s]\n"
     ]
    },
    {
     "name": "stdout",
     "output_type": "stream",
     "text": [
      "test: loss - 2.1, acc - 0.67\n",
      " val: loss - 1.2, acc - 0.64\n"
     ]
    },
    {
     "name": "stderr",
     "output_type": "stream",
     "text": [
      "Training Epoch 2: 100%|██████████| 78/78 [00:18<00:00,  4.17it/s]\n",
      "Evaluating Epoch 2: 100%|██████████| 26/26 [00:01<00:00, 16.77it/s]\n"
     ]
    },
    {
     "name": "stdout",
     "output_type": "stream",
     "text": [
      "test: loss - 1.7, acc - 0.72\n",
      " val: loss - 1.2, acc - 0.66\n"
     ]
    },
    {
     "name": "stderr",
     "output_type": "stream",
     "text": [
      "Training Epoch 3: 100%|██████████| 78/78 [00:18<00:00,  4.19it/s]\n",
      "Evaluating Epoch 3: 100%|██████████| 26/26 [00:01<00:00, 16.43it/s]\n"
     ]
    },
    {
     "name": "stdout",
     "output_type": "stream",
     "text": [
      "test: loss - 1.5, acc - 0.77\n",
      " val: loss - 1.0, acc - 0.69\n"
     ]
    },
    {
     "name": "stderr",
     "output_type": "stream",
     "text": [
      "Training Epoch 4: 100%|██████████| 78/78 [00:18<00:00,  4.17it/s]\n",
      "Evaluating Epoch 4: 100%|██████████| 26/26 [00:01<00:00, 15.99it/s]\n"
     ]
    },
    {
     "name": "stdout",
     "output_type": "stream",
     "text": [
      "test: loss - 1.3, acc - 0.79\n",
      " val: loss - 0.98, acc - 0.71\n"
     ]
    },
    {
     "name": "stderr",
     "output_type": "stream",
     "text": [
      "Training Epoch 5: 100%|██████████| 78/78 [00:18<00:00,  4.17it/s]\n",
      "Evaluating Epoch 5: 100%|██████████| 26/26 [00:01<00:00, 17.08it/s]\n"
     ]
    },
    {
     "name": "stdout",
     "output_type": "stream",
     "text": [
      "test: loss - 1.3, acc - 0.81\n",
      " val: loss - 0.73, acc - 0.79\n"
     ]
    },
    {
     "name": "stderr",
     "output_type": "stream",
     "text": [
      "Training Epoch 6: 100%|██████████| 78/78 [00:19<00:00,  4.08it/s]\n",
      "Evaluating Epoch 6: 100%|██████████| 26/26 [00:01<00:00, 16.10it/s]\n"
     ]
    },
    {
     "name": "stdout",
     "output_type": "stream",
     "text": [
      "test: loss - 1.1, acc - 0.83\n",
      " val: loss - 1.3, acc - 0.69\n"
     ]
    },
    {
     "name": "stderr",
     "output_type": "stream",
     "text": [
      "Training Epoch 7: 100%|██████████| 78/78 [00:19<00:00,  4.07it/s]\n",
      "Evaluating Epoch 7: 100%|██████████| 26/26 [00:01<00:00, 16.42it/s]\n"
     ]
    },
    {
     "name": "stdout",
     "output_type": "stream",
     "text": [
      "test: loss - 1.0, acc - 0.84\n",
      " val: loss - 0.71, acc - 0.77\n"
     ]
    },
    {
     "name": "stderr",
     "output_type": "stream",
     "text": [
      "Training Epoch 8: 100%|██████████| 78/78 [00:18<00:00,  4.14it/s]\n",
      "Evaluating Epoch 8: 100%|██████████| 26/26 [00:01<00:00, 17.24it/s]\n"
     ]
    },
    {
     "name": "stdout",
     "output_type": "stream",
     "text": [
      "test: loss - 0.89, acc - 0.86\n",
      " val: loss - 0.66, acc - 0.8\n"
     ]
    },
    {
     "name": "stderr",
     "output_type": "stream",
     "text": [
      "Training Epoch 9: 100%|██████████| 78/78 [00:19<00:00,  4.04it/s]\n",
      "Evaluating Epoch 9: 100%|██████████| 26/26 [00:01<00:00, 16.07it/s]\n"
     ]
    },
    {
     "name": "stdout",
     "output_type": "stream",
     "text": [
      "test: loss - 0.78, acc - 0.88\n",
      " val: loss - 0.82, acc - 0.78\n"
     ]
    },
    {
     "name": "stderr",
     "output_type": "stream",
     "text": [
      "Training Epoch 10: 100%|██████████| 78/78 [00:19<00:00,  4.06it/s]\n",
      "Evaluating Epoch 10: 100%|██████████| 26/26 [00:01<00:00, 16.42it/s]\n"
     ]
    },
    {
     "name": "stdout",
     "output_type": "stream",
     "text": [
      "test: loss - 0.66, acc - 0.9\n",
      " val: loss - 1.3, acc - 0.68\n"
     ]
    },
    {
     "name": "stderr",
     "output_type": "stream",
     "text": [
      "Training Epoch 11: 100%|██████████| 78/78 [00:19<00:00,  3.99it/s]\n",
      "Evaluating Epoch 11: 100%|██████████| 26/26 [00:01<00:00, 16.08it/s]\n"
     ]
    },
    {
     "name": "stdout",
     "output_type": "stream",
     "text": [
      "test: loss - 0.61, acc - 0.91\n",
      " val: loss - 0.56, acc - 0.84\n"
     ]
    },
    {
     "name": "stderr",
     "output_type": "stream",
     "text": [
      "Training Epoch 12: 100%|██████████| 78/78 [00:19<00:00,  3.98it/s]\n",
      "Evaluating Epoch 12: 100%|██████████| 26/26 [00:01<00:00, 16.39it/s]\n"
     ]
    },
    {
     "name": "stdout",
     "output_type": "stream",
     "text": [
      "test: loss - 0.5, acc - 0.93\n",
      " val: loss - 1.1, acc - 0.74\n"
     ]
    },
    {
     "name": "stderr",
     "output_type": "stream",
     "text": [
      "Training Epoch 13: 100%|██████████| 78/78 [00:19<00:00,  3.94it/s]\n",
      "Evaluating Epoch 13: 100%|██████████| 26/26 [00:01<00:00, 16.60it/s]\n"
     ]
    },
    {
     "name": "stdout",
     "output_type": "stream",
     "text": [
      "test: loss - 0.43, acc - 0.95\n",
      " val: loss - 0.69, acc - 0.8\n"
     ]
    },
    {
     "name": "stderr",
     "output_type": "stream",
     "text": [
      "Training Epoch 14: 100%|██████████| 78/78 [00:19<00:00,  3.97it/s]\n",
      "Evaluating Epoch 14: 100%|██████████| 26/26 [00:01<00:00, 15.90it/s]\n"
     ]
    },
    {
     "name": "stdout",
     "output_type": "stream",
     "text": [
      "test: loss - 0.33, acc - 0.96\n",
      " val: loss - 0.69, acc - 0.81\n"
     ]
    },
    {
     "name": "stderr",
     "output_type": "stream",
     "text": [
      "Training Epoch 15: 100%|██████████| 78/78 [00:19<00:00,  4.07it/s]\n",
      "Evaluating Epoch 15: 100%|██████████| 26/26 [00:01<00:00, 16.60it/s]\n"
     ]
    },
    {
     "name": "stdout",
     "output_type": "stream",
     "text": [
      "test: loss - 0.29, acc - 0.97\n",
      " val: loss - 0.68, acc - 0.81\n"
     ]
    },
    {
     "name": "stderr",
     "output_type": "stream",
     "text": [
      "Training Epoch 16: 100%|██████████| 78/78 [00:19<00:00,  3.98it/s]\n",
      "Evaluating Epoch 16: 100%|██████████| 26/26 [00:01<00:00, 15.75it/s]\n"
     ]
    },
    {
     "name": "stdout",
     "output_type": "stream",
     "text": [
      "test: loss - 0.24, acc - 0.98\n",
      " val: loss - 0.62, acc - 0.82\n"
     ]
    },
    {
     "name": "stderr",
     "output_type": "stream",
     "text": [
      "Training Epoch 17: 100%|██████████| 78/78 [00:19<00:00,  4.06it/s]\n",
      "Evaluating Epoch 17: 100%|██████████| 26/26 [00:01<00:00, 16.38it/s]\n"
     ]
    },
    {
     "name": "stdout",
     "output_type": "stream",
     "text": [
      "test: loss - 0.22, acc - 0.98\n",
      " val: loss - 0.57, acc - 0.85\n"
     ]
    },
    {
     "name": "stderr",
     "output_type": "stream",
     "text": [
      "Training Epoch 18: 100%|██████████| 78/78 [00:19<00:00,  4.08it/s]\n",
      "Evaluating Epoch 18: 100%|██████████| 26/26 [00:01<00:00, 15.77it/s]\n"
     ]
    },
    {
     "name": "stdout",
     "output_type": "stream",
     "text": [
      "test: loss - 0.17, acc - 0.99\n",
      " val: loss - 0.55, acc - 0.85\n"
     ]
    },
    {
     "name": "stderr",
     "output_type": "stream",
     "text": [
      "Training Epoch 19: 100%|██████████| 78/78 [00:19<00:00,  4.08it/s]\n",
      "Evaluating Epoch 19: 100%|██████████| 26/26 [00:01<00:00, 16.22it/s]\n"
     ]
    },
    {
     "name": "stdout",
     "output_type": "stream",
     "text": [
      "test: loss - 0.17, acc - 0.99\n",
      " val: loss - 0.6, acc - 0.83\n"
     ]
    },
    {
     "name": "stderr",
     "output_type": "stream",
     "text": [
      "Training Epoch 20: 100%|██████████| 78/78 [00:19<00:00,  4.00it/s]\n",
      "Evaluating Epoch 20: 100%|██████████| 26/26 [00:01<00:00, 16.05it/s]\n"
     ]
    },
    {
     "name": "stdout",
     "output_type": "stream",
     "text": [
      "test: loss - 0.15, acc - 0.99\n",
      " val: loss - 0.62, acc - 0.84\n"
     ]
    },
    {
     "name": "stderr",
     "output_type": "stream",
     "text": [
      "Training Epoch 21: 100%|██████████| 78/78 [00:19<00:00,  3.99it/s]\n",
      "Evaluating Epoch 21: 100%|██████████| 26/26 [00:01<00:00, 15.92it/s]\n"
     ]
    },
    {
     "name": "stdout",
     "output_type": "stream",
     "text": [
      "test: loss - 0.14, acc - 1.0\n",
      " val: loss - 0.59, acc - 0.83\n"
     ]
    },
    {
     "name": "stderr",
     "output_type": "stream",
     "text": [
      "Training Epoch 22: 100%|██████████| 78/78 [00:18<00:00,  4.14it/s]\n",
      "Evaluating Epoch 22: 100%|██████████| 26/26 [00:01<00:00, 16.79it/s]\n"
     ]
    },
    {
     "name": "stdout",
     "output_type": "stream",
     "text": [
      "test: loss - 0.11, acc - 1.0\n",
      " val: loss - 0.51, acc - 0.85\n"
     ]
    },
    {
     "name": "stderr",
     "output_type": "stream",
     "text": [
      "Training Epoch 23: 100%|██████████| 78/78 [00:18<00:00,  4.22it/s]\n",
      "Evaluating Epoch 23: 100%|██████████| 26/26 [00:01<00:00, 16.87it/s]\n"
     ]
    },
    {
     "name": "stdout",
     "output_type": "stream",
     "text": [
      "test: loss - 0.1, acc - 1.0\n",
      " val: loss - 0.45, acc - 0.86\n"
     ]
    },
    {
     "name": "stderr",
     "output_type": "stream",
     "text": [
      "Training Epoch 24: 100%|██████████| 78/78 [00:18<00:00,  4.24it/s]\n",
      "Evaluating Epoch 24: 100%|██████████| 26/26 [00:01<00:00, 16.64it/s]\n"
     ]
    },
    {
     "name": "stdout",
     "output_type": "stream",
     "text": [
      "test: loss - 0.096, acc - 1.0\n",
      " val: loss - 0.5, acc - 0.85\n"
     ]
    },
    {
     "name": "stderr",
     "output_type": "stream",
     "text": [
      "Training Epoch 25: 100%|██████████| 78/78 [00:18<00:00,  4.23it/s]\n",
      "Evaluating Epoch 25: 100%|██████████| 26/26 [00:01<00:00, 17.16it/s]\n"
     ]
    },
    {
     "name": "stdout",
     "output_type": "stream",
     "text": [
      "test: loss - 0.1, acc - 1.0\n",
      " val: loss - 0.5, acc - 0.85\n"
     ]
    },
    {
     "name": "stderr",
     "output_type": "stream",
     "text": [
      "Training Epoch 26: 100%|██████████| 78/78 [00:18<00:00,  4.24it/s]\n",
      "Evaluating Epoch 26: 100%|██████████| 26/26 [00:01<00:00, 16.96it/s]\n"
     ]
    },
    {
     "name": "stdout",
     "output_type": "stream",
     "text": [
      "test: loss - 0.12, acc - 1.0\n",
      " val: loss - 0.58, acc - 0.83\n"
     ]
    },
    {
     "name": "stderr",
     "output_type": "stream",
     "text": [
      "Training Epoch 27: 100%|██████████| 78/78 [00:18<00:00,  4.23it/s]\n",
      "Evaluating Epoch 27: 100%|██████████| 26/26 [00:01<00:00, 17.08it/s]\n"
     ]
    },
    {
     "name": "stdout",
     "output_type": "stream",
     "text": [
      "test: loss - 0.11, acc - 1.0\n",
      " val: loss - 0.69, acc - 0.81\n"
     ]
    },
    {
     "name": "stderr",
     "output_type": "stream",
     "text": [
      "Training Epoch 28: 100%|██████████| 78/78 [00:18<00:00,  4.23it/s]\n",
      "Evaluating Epoch 28: 100%|██████████| 26/26 [00:01<00:00, 16.97it/s]\n"
     ]
    },
    {
     "name": "stdout",
     "output_type": "stream",
     "text": [
      "test: loss - 0.12, acc - 1.0\n",
      " val: loss - 0.66, acc - 0.82\n"
     ]
    },
    {
     "name": "stderr",
     "output_type": "stream",
     "text": [
      "Training Epoch 29: 100%|██████████| 78/78 [00:18<00:00,  4.23it/s]\n",
      "Evaluating Epoch 29: 100%|██████████| 26/26 [00:01<00:00, 17.05it/s]\n"
     ]
    },
    {
     "name": "stdout",
     "output_type": "stream",
     "text": [
      "test: loss - 0.13, acc - 1.0\n",
      " val: loss - 0.62, acc - 0.83\n"
     ]
    },
    {
     "name": "stderr",
     "output_type": "stream",
     "text": [
      "Training Epoch 30: 100%|██████████| 78/78 [00:18<00:00,  4.23it/s]\n",
      "Evaluating Epoch 30: 100%|██████████| 26/26 [00:01<00:00, 17.15it/s]\n"
     ]
    },
    {
     "name": "stdout",
     "output_type": "stream",
     "text": [
      "test: loss - 0.11, acc - 1.0\n",
      " val: loss - 0.6, acc - 0.82\n"
     ]
    },
    {
     "name": "stderr",
     "output_type": "stream",
     "text": [
      "Training Epoch 31: 100%|██████████| 78/78 [00:18<00:00,  4.23it/s]\n",
      "Evaluating Epoch 31: 100%|██████████| 26/26 [00:01<00:00, 17.11it/s]\n"
     ]
    },
    {
     "name": "stdout",
     "output_type": "stream",
     "text": [
      "test: loss - 0.11, acc - 1.0\n",
      " val: loss - 0.58, acc - 0.84\n"
     ]
    },
    {
     "name": "stderr",
     "output_type": "stream",
     "text": [
      "Training Epoch 32: 100%|██████████| 78/78 [00:18<00:00,  4.25it/s]\n",
      "Evaluating Epoch 32: 100%|██████████| 26/26 [00:01<00:00, 17.10it/s]\n"
     ]
    },
    {
     "name": "stdout",
     "output_type": "stream",
     "text": [
      "test: loss - 0.099, acc - 1.0\n",
      " val: loss - 0.53, acc - 0.85\n"
     ]
    },
    {
     "name": "stderr",
     "output_type": "stream",
     "text": [
      "Training Epoch 33: 100%|██████████| 78/78 [00:18<00:00,  4.22it/s]\n",
      "Evaluating Epoch 33: 100%|██████████| 26/26 [00:01<00:00, 16.99it/s]\n"
     ]
    },
    {
     "name": "stdout",
     "output_type": "stream",
     "text": [
      "test: loss - 0.091, acc - 1.0\n",
      " val: loss - 0.49, acc - 0.86\n"
     ]
    },
    {
     "name": "stderr",
     "output_type": "stream",
     "text": [
      "Training Epoch 34: 100%|██████████| 78/78 [00:18<00:00,  4.21it/s]\n",
      "Evaluating Epoch 34: 100%|██████████| 26/26 [00:01<00:00, 16.87it/s]\n"
     ]
    },
    {
     "name": "stdout",
     "output_type": "stream",
     "text": [
      "test: loss - 0.095, acc - 1.0\n",
      " val: loss - 0.51, acc - 0.85\n"
     ]
    },
    {
     "name": "stderr",
     "output_type": "stream",
     "text": [
      "Training Epoch 35: 100%|██████████| 78/78 [00:18<00:00,  4.23it/s]\n",
      "Evaluating Epoch 35: 100%|██████████| 26/26 [00:01<00:00, 17.17it/s]\n"
     ]
    },
    {
     "name": "stdout",
     "output_type": "stream",
     "text": [
      "test: loss - 0.11, acc - 1.0\n",
      " val: loss - 0.65, acc - 0.82\n"
     ]
    },
    {
     "name": "stderr",
     "output_type": "stream",
     "text": [
      "Training Epoch 36: 100%|██████████| 78/78 [00:18<00:00,  4.24it/s]\n",
      "Evaluating Epoch 36: 100%|██████████| 26/26 [00:01<00:00, 17.20it/s]\n"
     ]
    },
    {
     "name": "stdout",
     "output_type": "stream",
     "text": [
      "test: loss - 0.099, acc - 1.0\n",
      " val: loss - 0.58, acc - 0.84\n"
     ]
    },
    {
     "name": "stderr",
     "output_type": "stream",
     "text": [
      "Training Epoch 37: 100%|██████████| 78/78 [00:18<00:00,  4.25it/s]\n",
      "Evaluating Epoch 37: 100%|██████████| 26/26 [00:01<00:00, 17.07it/s]\n"
     ]
    },
    {
     "name": "stdout",
     "output_type": "stream",
     "text": [
      "test: loss - 0.11, acc - 1.0\n",
      " val: loss - 0.56, acc - 0.85\n"
     ]
    },
    {
     "name": "stderr",
     "output_type": "stream",
     "text": [
      "Training Epoch 38: 100%|██████████| 78/78 [00:18<00:00,  4.20it/s]\n",
      "Evaluating Epoch 38: 100%|██████████| 26/26 [00:01<00:00, 17.10it/s]\n"
     ]
    },
    {
     "name": "stdout",
     "output_type": "stream",
     "text": [
      "test: loss - 0.097, acc - 1.0\n",
      " val: loss - 0.5, acc - 0.86\n"
     ]
    },
    {
     "name": "stderr",
     "output_type": "stream",
     "text": [
      "Training Epoch 39: 100%|██████████| 78/78 [00:18<00:00,  4.23it/s]\n",
      "Evaluating Epoch 39: 100%|██████████| 26/26 [00:01<00:00, 17.35it/s]\n"
     ]
    },
    {
     "name": "stdout",
     "output_type": "stream",
     "text": [
      "test: loss - 0.09, acc - 1.0\n",
      " val: loss - 0.45, acc - 0.87\n"
     ]
    },
    {
     "name": "stderr",
     "output_type": "stream",
     "text": [
      "Training Epoch 40: 100%|██████████| 78/78 [00:18<00:00,  4.25it/s]\n",
      "Evaluating Epoch 40: 100%|██████████| 26/26 [00:01<00:00, 17.00it/s]\n"
     ]
    },
    {
     "name": "stdout",
     "output_type": "stream",
     "text": [
      "test: loss - 0.11, acc - 1.0\n",
      " val: loss - 0.57, acc - 0.83\n"
     ]
    },
    {
     "name": "stderr",
     "output_type": "stream",
     "text": [
      "Training Epoch 41: 100%|██████████| 78/78 [00:18<00:00,  4.24it/s]\n",
      "Evaluating Epoch 41: 100%|██████████| 26/26 [00:01<00:00, 16.86it/s]\n"
     ]
    },
    {
     "name": "stdout",
     "output_type": "stream",
     "text": [
      "test: loss - 0.11, acc - 1.0\n",
      " val: loss - 0.64, acc - 0.82\n"
     ]
    },
    {
     "name": "stderr",
     "output_type": "stream",
     "text": [
      "Training Epoch 42: 100%|██████████| 78/78 [00:18<00:00,  4.25it/s]\n",
      "Evaluating Epoch 42: 100%|██████████| 26/26 [00:01<00:00, 17.29it/s]\n"
     ]
    },
    {
     "name": "stdout",
     "output_type": "stream",
     "text": [
      "test: loss - 0.19, acc - 0.98\n",
      " val: loss - 1.0, acc - 0.77\n"
     ]
    },
    {
     "name": "stderr",
     "output_type": "stream",
     "text": [
      "Training Epoch 43: 100%|██████████| 78/78 [00:18<00:00,  4.25it/s]\n",
      "Evaluating Epoch 43: 100%|██████████| 26/26 [00:01<00:00, 16.91it/s]\n"
     ]
    },
    {
     "name": "stdout",
     "output_type": "stream",
     "text": [
      "test: loss - 0.32, acc - 0.96\n",
      " val: loss - 1.2, acc - 0.72\n"
     ]
    },
    {
     "name": "stderr",
     "output_type": "stream",
     "text": [
      "Training Epoch 44: 100%|██████████| 78/78 [00:18<00:00,  4.22it/s]\n",
      "Evaluating Epoch 44: 100%|██████████| 26/26 [00:01<00:00, 17.13it/s]\n"
     ]
    },
    {
     "name": "stdout",
     "output_type": "stream",
     "text": [
      "test: loss - 0.18, acc - 0.99\n",
      " val: loss - 0.57, acc - 0.84\n"
     ]
    },
    {
     "name": "stderr",
     "output_type": "stream",
     "text": [
      "Training Epoch 45: 100%|██████████| 78/78 [00:18<00:00,  4.19it/s]\n",
      "Evaluating Epoch 45: 100%|██████████| 26/26 [00:01<00:00, 17.11it/s]\n"
     ]
    },
    {
     "name": "stdout",
     "output_type": "stream",
     "text": [
      "test: loss - 0.1, acc - 1.0\n",
      " val: loss - 0.46, acc - 0.87\n"
     ]
    },
    {
     "name": "stderr",
     "output_type": "stream",
     "text": [
      "Training Epoch 46: 100%|██████████| 78/78 [00:18<00:00,  4.24it/s]\n",
      "Evaluating Epoch 46: 100%|██████████| 26/26 [00:01<00:00, 17.13it/s]\n"
     ]
    },
    {
     "name": "stdout",
     "output_type": "stream",
     "text": [
      "test: loss - 0.079, acc - 1.0\n",
      " val: loss - 0.44, acc - 0.87\n"
     ]
    },
    {
     "name": "stderr",
     "output_type": "stream",
     "text": [
      "Training Epoch 47: 100%|██████████| 78/78 [00:18<00:00,  4.23it/s]\n",
      "Evaluating Epoch 47: 100%|██████████| 26/26 [00:01<00:00, 17.32it/s]\n"
     ]
    },
    {
     "name": "stdout",
     "output_type": "stream",
     "text": [
      "test: loss - 0.071, acc - 1.0\n",
      " val: loss - 0.47, acc - 0.86\n"
     ]
    },
    {
     "name": "stderr",
     "output_type": "stream",
     "text": [
      "Training Epoch 48: 100%|██████████| 78/78 [00:18<00:00,  4.18it/s]\n",
      "Evaluating Epoch 48: 100%|██████████| 26/26 [00:01<00:00, 16.85it/s]\n"
     ]
    },
    {
     "name": "stdout",
     "output_type": "stream",
     "text": [
      "test: loss - 0.066, acc - 1.0\n",
      " val: loss - 0.44, acc - 0.87\n"
     ]
    },
    {
     "name": "stderr",
     "output_type": "stream",
     "text": [
      "Training Epoch 49: 100%|██████████| 78/78 [00:18<00:00,  4.24it/s]\n",
      "Evaluating Epoch 49: 100%|██████████| 26/26 [00:01<00:00, 16.88it/s]\n"
     ]
    },
    {
     "name": "stdout",
     "output_type": "stream",
     "text": [
      "test: loss - 0.062, acc - 1.0\n",
      " val: loss - 0.43, acc - 0.87\n"
     ]
    },
    {
     "name": "stderr",
     "output_type": "stream",
     "text": [
      "Training Epoch 50: 100%|██████████| 78/78 [00:18<00:00,  4.24it/s]\n",
      "Evaluating Epoch 50: 100%|██████████| 26/26 [00:01<00:00, 17.12it/s]\n"
     ]
    },
    {
     "name": "stdout",
     "output_type": "stream",
     "text": [
      "test: loss - 0.059, acc - 1.0\n",
      " val: loss - 0.45, acc - 0.86\n"
     ]
    },
    {
     "name": "stderr",
     "output_type": "stream",
     "text": [
      "Training Epoch 51: 100%|██████████| 78/78 [00:18<00:00,  4.22it/s]\n",
      "Evaluating Epoch 51: 100%|██████████| 26/26 [00:01<00:00, 17.16it/s]\n"
     ]
    },
    {
     "name": "stdout",
     "output_type": "stream",
     "text": [
      "test: loss - 0.059, acc - 1.0\n",
      " val: loss - 0.43, acc - 0.86\n"
     ]
    },
    {
     "name": "stderr",
     "output_type": "stream",
     "text": [
      "Training Epoch 52: 100%|██████████| 78/78 [00:18<00:00,  4.24it/s]\n",
      "Evaluating Epoch 52: 100%|██████████| 26/26 [00:01<00:00, 17.07it/s]\n"
     ]
    },
    {
     "name": "stdout",
     "output_type": "stream",
     "text": [
      "test: loss - 0.058, acc - 1.0\n",
      " val: loss - 0.43, acc - 0.87\n"
     ]
    },
    {
     "name": "stderr",
     "output_type": "stream",
     "text": [
      "Training Epoch 53: 100%|██████████| 78/78 [00:18<00:00,  4.24it/s]\n",
      "Evaluating Epoch 53: 100%|██████████| 26/26 [00:01<00:00, 17.32it/s]\n"
     ]
    },
    {
     "name": "stdout",
     "output_type": "stream",
     "text": [
      "test: loss - 0.055, acc - 1.0\n",
      " val: loss - 0.44, acc - 0.87\n"
     ]
    },
    {
     "name": "stderr",
     "output_type": "stream",
     "text": [
      "Training Epoch 54: 100%|██████████| 78/78 [00:18<00:00,  4.24it/s]\n",
      "Evaluating Epoch 54: 100%|██████████| 26/26 [00:01<00:00, 16.89it/s]\n"
     ]
    },
    {
     "name": "stdout",
     "output_type": "stream",
     "text": [
      "test: loss - 0.057, acc - 1.0\n",
      " val: loss - 0.45, acc - 0.86\n"
     ]
    },
    {
     "name": "stderr",
     "output_type": "stream",
     "text": [
      "Training Epoch 55: 100%|██████████| 78/78 [00:18<00:00,  4.23it/s]\n",
      "Evaluating Epoch 55: 100%|██████████| 26/26 [00:01<00:00, 17.12it/s]\n"
     ]
    },
    {
     "name": "stdout",
     "output_type": "stream",
     "text": [
      "test: loss - 0.056, acc - 1.0\n",
      " val: loss - 0.43, acc - 0.87\n"
     ]
    },
    {
     "name": "stderr",
     "output_type": "stream",
     "text": [
      "Training Epoch 56: 100%|██████████| 78/78 [00:18<00:00,  4.24it/s]\n",
      "Evaluating Epoch 56: 100%|██████████| 26/26 [00:01<00:00, 17.10it/s]\n"
     ]
    },
    {
     "name": "stdout",
     "output_type": "stream",
     "text": [
      "test: loss - 0.057, acc - 1.0\n",
      " val: loss - 0.45, acc - 0.86\n"
     ]
    },
    {
     "name": "stderr",
     "output_type": "stream",
     "text": [
      "Training Epoch 57: 100%|██████████| 78/78 [00:18<00:00,  4.26it/s]\n",
      "Evaluating Epoch 57: 100%|██████████| 26/26 [00:01<00:00, 17.16it/s]\n"
     ]
    },
    {
     "name": "stdout",
     "output_type": "stream",
     "text": [
      "test: loss - 0.055, acc - 1.0\n",
      " val: loss - 0.43, acc - 0.87\n"
     ]
    },
    {
     "name": "stderr",
     "output_type": "stream",
     "text": [
      "Training Epoch 58: 100%|██████████| 78/78 [00:18<00:00,  4.25it/s]\n",
      "Evaluating Epoch 58: 100%|██████████| 26/26 [00:01<00:00, 17.18it/s]\n"
     ]
    },
    {
     "name": "stdout",
     "output_type": "stream",
     "text": [
      "test: loss - 0.055, acc - 1.0\n",
      " val: loss - 0.42, acc - 0.87\n"
     ]
    },
    {
     "name": "stderr",
     "output_type": "stream",
     "text": [
      "Training Epoch 59: 100%|██████████| 78/78 [00:19<00:00,  4.02it/s]\n",
      "Evaluating Epoch 59: 100%|██████████| 26/26 [00:01<00:00, 16.47it/s]\n"
     ]
    },
    {
     "name": "stdout",
     "output_type": "stream",
     "text": [
      "test: loss - 0.054, acc - 1.0\n",
      " val: loss - 0.42, acc - 0.88\n"
     ]
    },
    {
     "name": "stderr",
     "output_type": "stream",
     "text": [
      "Training Epoch 60: 100%|██████████| 78/78 [00:19<00:00,  3.99it/s]\n",
      "Evaluating Epoch 60: 100%|██████████| 26/26 [00:01<00:00, 15.93it/s]\n"
     ]
    },
    {
     "name": "stdout",
     "output_type": "stream",
     "text": [
      "test: loss - 0.053, acc - 1.0\n",
      " val: loss - 0.44, acc - 0.86\n"
     ]
    },
    {
     "name": "stderr",
     "output_type": "stream",
     "text": [
      "Training Epoch 61: 100%|██████████| 78/78 [00:19<00:00,  3.97it/s]\n",
      "Evaluating Epoch 61: 100%|██████████| 26/26 [00:01<00:00, 16.25it/s]\n"
     ]
    },
    {
     "name": "stdout",
     "output_type": "stream",
     "text": [
      "test: loss - 0.053, acc - 1.0\n",
      " val: loss - 0.45, acc - 0.86\n"
     ]
    },
    {
     "name": "stderr",
     "output_type": "stream",
     "text": [
      "Training Epoch 62: 100%|██████████| 78/78 [00:18<00:00,  4.11it/s]\n",
      "Evaluating Epoch 62: 100%|██████████| 26/26 [00:01<00:00, 16.86it/s]\n"
     ]
    },
    {
     "name": "stdout",
     "output_type": "stream",
     "text": [
      "test: loss - 0.052, acc - 1.0\n",
      " val: loss - 0.42, acc - 0.86\n"
     ]
    },
    {
     "name": "stderr",
     "output_type": "stream",
     "text": [
      "Training Epoch 63: 100%|██████████| 78/78 [00:19<00:00,  3.99it/s]\n",
      "Evaluating Epoch 63: 100%|██████████| 26/26 [00:01<00:00, 16.08it/s]\n"
     ]
    },
    {
     "name": "stdout",
     "output_type": "stream",
     "text": [
      "test: loss - 0.049, acc - 1.0\n",
      " val: loss - 0.42, acc - 0.87\n"
     ]
    },
    {
     "name": "stderr",
     "output_type": "stream",
     "text": [
      "Training Epoch 64: 100%|██████████| 78/78 [00:19<00:00,  3.96it/s]\n",
      "Evaluating Epoch 64: 100%|██████████| 26/26 [00:01<00:00, 16.11it/s]"
     ]
    },
    {
     "name": "stdout",
     "output_type": "stream",
     "text": [
      "test: loss - 0.049, acc - 1.0\n",
      " val: loss - 0.43, acc - 0.87\n"
     ]
    },
    {
     "name": "stderr",
     "output_type": "stream",
     "text": [
      "\n"
     ]
    }
   ],
   "source": [
    "# TODO: 5. Train ResNet18 and save the best-performing parameters to 'resnet18_checkpoint.pkl'.\n",
    "# Hint: Use the correct loss function for knowledge distillation.\n",
    "#       Details can be fund in https://docs.pytorch.org/tutorials/beginner/knowledge_distillation_tutorial.html.\n",
    "\n",
    "train_accs_resnet18, train_losses_resnet18, val_accs_resnet18, val_losses_resnet18 = [], [], [], []\n",
    "\n",
    "for i in range(MAX_EPOCH):\n",
    "\n",
    "    # Training\n",
    "    train_loss, train_acc = knowledgeDistillationTrain(resnet18, resnet34, dataset_train)\n",
    "    train_losses_resnet18.append(train_loss)\n",
    "    train_accs_resnet18.append(train_acc)\n",
    "\n",
    "\n",
    "    val_loss, val_acc = runModelOnDataset(resnet18, dataset_val, False)\n",
    "    val_losses_resnet18.append(val_loss)\n",
    "    val_accs_resnet18.append(val_acc)\n",
    "\n",
    "\n",
    "    print(f\"test: loss - {train_loss:.2}, acc - {train_acc:.2}\")\n",
    "    print(f\" val: loss - {val_loss:.2}, acc - {val_acc:.2}\")\n",
    "\n",
    "\n"
   ]
  },
  {
   "cell_type": "code",
   "execution_count": 25,
   "id": "cb04acde",
   "metadata": {},
   "outputs": [],
   "source": [
    "torch.save(resnet18, \"../models/resnet18checkpoint.pkl\")"
   ]
  },
  {
   "cell_type": "code",
   "execution_count": 26,
   "id": "39a4c85f",
   "metadata": {},
   "outputs": [
    {
     "data": {
      "image/png": "[encoded data removed]",
      "text/plain": [
       "<Figure size 640x480 with 1 Axes>"
      ]
     },
     "metadata": {},
     "output_type": "display_data"
    },
    {
     "data": {
      "image/png": "[encoded data removed]",
      "text/plain": [
       "<Figure size 640x480 with 1 Axes>"
      ]
     },
     "metadata": {},
     "output_type": "display_data"
    }
   ],
   "source": [
    "\n",
    "# TODO nice plots\n",
    "plt.plot(range(MAX_EPOCH), train_losses_resnet18)\n",
    "plt.plot(range(MAX_EPOCH), val_losses_resnet18)\n",
    "plt.legend(['training', 'validation'], loc='center right')\n",
    "\n",
    "plt.show()\n",
    "\n",
    "plt.plot(range(MAX_EPOCH), train_accs_resnet18)\n",
    "plt.plot(range(MAX_EPOCH), val_accs_resnet18)\n",
    "plt.legend(['training', 'validation'], loc='center right')\n",
    "\n",
    "plt.show()\n"
   ]
  },
  {
   "cell_type": "code",
   "execution_count": null,
   "id": "260396b6b143a422",
   "metadata": {
    "ExecuteTime": {
     "end_time": "2025-05-10T03:04:33.157515Z",
     "start_time": "2025-05-10T03:04:32.960493Z"
    },
    "collapsed": false
   },
   "outputs": [
    {
     "data": {
      "image/png": "[encoded data removed]",
      "text/plain": [
       "<Figure size 640x480 with 1 Axes>"
      ]
     },
     "metadata": {},
     "output_type": "display_data"
    },
    {
     "data": {
      "image/png": "[encoded data removed]",
      "text/plain": [
       "<Figure size 640x480 with 1 Axes>"
      ]
     },
     "metadata": {},
     "output_type": "display_data"
    }
   ],
   "source": [
    "# TODO: 6. Plot the loss and accuracy curves.\n"
   ]
  },
  {
   "cell_type": "markdown",
   "id": "730790a6c4e96912",
   "metadata": {
    "collapsed": false
   },
   "source": [
    "# Step 4 Predict labels in the testing set\n",
    "1. Load the saved ResNet18 and move it to the selected device.\n",
    "2. Do prediction using the images in the testing set.\n",
    "3. Write the results into the CSV file for submission."
   ]
  },
  {
   "cell_type": "code",
   "execution_count": 4,
   "id": "d2a8f6f703b42a0a",
   "metadata": {
    "collapsed": false
   },
   "outputs": [
    {
     "data": {
      "text/plain": [
       "device(type='cpu')"
      ]
     },
     "execution_count": 4,
     "metadata": {},
     "output_type": "execute_result"
    }
   ],
   "source": [
    "# 1. Load the saved ResNet18 and move it to the selected device.\n",
    "# Hint: Enable the evaluation mode to prevent updating the parameters.\n",
    "\n",
    "resnet18 = torch.load(\"../models/resnet18checkpoint.pkl\", weights_only=False)\n",
    "resnet18.eval()\n",
    "device = torch.device(\"cpu\")\n",
    "resnet18.to(device)\n",
    "device"
   ]
  },
  {
   "cell_type": "code",
   "execution_count": 3,
   "id": "fdcbe416",
   "metadata": {},
   "outputs": [
    {
     "name": "stdout",
     "output_type": "stream",
     "text": [
      "Test set loaded\n"
     ]
    }
   ],
   "source": [
    "tensor_test = torch.load(\"../data_preprocessed/tensor_test.pt\")\n",
    "tensor_test.to(device)\n",
    "print(\"Test set loaded\")"
   ]
  },
  {
   "cell_type": "code",
   "execution_count": null,
   "id": "316f7f4e",
   "metadata": {},
   "outputs": [],
   "source": [
    "# 2. Do prediction using the images in the testing set.\n",
    "with torch.no_grad():\n",
    "    output = resnet18(tensor_test)\n",
    "    predictions = output.max(axis = 1).indices # this is a tensor"
   ]
  },
  {
   "cell_type": "code",
   "execution_count": null,
   "id": "bee5ddbde0d132cf",
   "metadata": {
    "collapsed": false
   },
   "outputs": [],
   "source": [
    "# 3. Write the results into the CSV file for submission.\n",
    "# Hint: The CSV file should be in the format of 'file_name' and 'label'.\n",
    "#       The submission.csv should look like:\n",
    "#           file_name,label\n",
    "#           0.jpg,sunglasses\n",
    "#           ...\n",
    "\n",
    "unique_labels = ['african_elephant', 'airliner', 'banana', 'convertible_car', 'golden_retriever', \n",
    "                 'goldfish', 'parachute', 'rugby', 'sunglasses', 'tiger_cat']\n",
    "label_to_index = {'african_elephant': 0,\n",
    "                   'airliner': 1,\n",
    "                   'banana': 2,\n",
    "                   'convertible_car': 3,\n",
    "                   'golden_retriever': 4,\n",
    "                   'goldfish': 5,\n",
    "                   'parachute': 6,\n",
    "                   'rugby': 7,\n",
    "                   'sunglasses': 8,\n",
    "                   'tiger_cat': 9}\n",
    "\n",
    "index_to_label = {index : label for (label, index) in label_to_index.items()}\n",
    "\n",
    "file_names = sorted(os.listdir(\"../dataset_split/test\"), key = len)\n",
    "labels = [index_to_label[ind.item()] for ind in predictions]\n",
    "\n",
    "with open(\"submission.csv\", 'w', newline='') as f:\n",
    "    writer = csv.writer(f)\n",
    "    writer.writerow([\"file_name\", \"label\"])\n",
    "    writer.writerows(zip(file_names, labels))\n",
    "    \n"
   ]
  }
 ],
 "metadata": {
  "kernelspec": {
   "display_name": "base",
   "language": "python",
   "name": "python3"
  },
  "language_info": {
   "codemirror_mode": {
    "name": "ipython",
    "version": 3
   },
   "file_extension": ".py",
   "mimetype": "text/x-python",
   "name": "python",
   "nbconvert_exporter": "python",
   "pygments_lexer": "ipython3",
   "version": "3.9.19"
  }
 },
 "nbformat": 4,
 "nbformat_minor": 5
}
